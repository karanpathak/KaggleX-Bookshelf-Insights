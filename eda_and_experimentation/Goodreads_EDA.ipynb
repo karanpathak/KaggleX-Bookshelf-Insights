{
  "nbformat": 4,
  "nbformat_minor": 0,
  "metadata": {
    "colab": {
      "provenance": []
    },
    "kernelspec": {
      "name": "python3",
      "display_name": "Python 3"
    },
    "language_info": {
      "name": "python"
    }
  },
  "cells": [
    {
      "cell_type": "code",
      "source": [
        "!pip install -q tensorflow-recommenders\n",
        "!pip install -q --upgrade tensorflow-datasets\n",
        "!pip install -q scann"
      ],
      "metadata": {
        "id": "s75l3qS_Z248"
      },
      "execution_count": 10,
      "outputs": []
    },
    {
      "cell_type": "code",
      "execution_count": 11,
      "metadata": {
        "id": "NiUWPNduJjaE"
      },
      "outputs": [],
      "source": [
        "import pandas as pd\n",
        "import requests\n",
        "import os\n",
        "import gzip\n",
        "import json\n",
        "import numpy as np\n",
        "\n",
        "import pprint\n",
        "import tempfile\n",
        "\n",
        "from typing import Dict, Text\n",
        "\n",
        "import tensorflow as tf\n",
        "\n",
        "import tensorflow_datasets as tfds\n",
        "import tensorflow_recommenders as tfrs"
      ]
    },
    {
      "cell_type": "code",
      "source": [
        "file_name_type_mapping = {'goodreads_books_fantasy_paranormal.json.gz':'byGenre', 'goodreads_interactions_fantasy_paranormal.json.gz':'byGenre'\n",
        ", 'goodreads_reviews_fantasy_paranormal.json.gz':'byGenre', 'book_id_map.csv':'complete', 'user_id_map.csv':'complete', 'goodreads_book_authors.json.gz':'complete'}\n",
        "file_name_url_mapping = {}\n",
        "\n",
        "for fname in file_name_type_mapping:\n",
        "    ftype = file_name_type_mapping[fname]\n",
        "    if ftype == \"complete\":\n",
        "        # url = 'https://datarepo.eng.ucsd.edu/mcauley_group/gdrive/goodreads/'+fname\n",
        "        url = '/content/drive/MyDrive/KaggleX/'+fname\n",
        "        file_name_url_mapping[fname] = url\n",
        "    elif ftype == \"byGenre\":\n",
        "        # url = 'https://datarepo.eng.ucsd.edu/mcauley_group/gdrive/goodreads/byGenre/'+fname\n",
        "        url = '/content/drive/MyDrive/KaggleX/'+fname\n",
        "        file_name_url_mapping[fname] = url"
      ],
      "metadata": {
        "id": "E_Mdxp4ZVPkl"
      },
      "execution_count": 12,
      "outputs": []
    },
    {
      "cell_type": "code",
      "source": [
        "# url = 'https://datarepo.eng.ucsd.edu/mcauley_group/gdrive/goodreads/byGenre/goodreads_books_fantasy_paranormal.json.gz'\n",
        "# OUT_DIR = './genre'\n",
        "\n",
        "# if not os.path.exists(OUT_DIR):\n",
        "#     os.makedirs(OUT_DIR)\n",
        "\n",
        "# local_filename = os.path.join(OUT_DIR, 'goodreads_books_fantasy_paranormal.json.gz')\n",
        "\n",
        "# with requests.get(url, stream=True) as r:\n",
        "#   r.raise_for_status()\n",
        "#   with open(local_filename, 'wb') as f:\n",
        "#     for chunk in r.iter_content(chunk_size=8192):\n",
        "#       f.write(chunk)\n",
        "def download_by_name(fname, local_filename):\n",
        "    if fname in file_name_url_mapping:\n",
        "        url = file_name_url_mapping[fname]\n",
        "        with requests.get(url, stream=True) as r:\n",
        "            r.raise_for_status()\n",
        "            with open(local_filename, 'wb') as f:\n",
        "                for chunk in r.iter_content(chunk_size=8192):\n",
        "                    f.write(chunk)\n",
        "        print('Dataset', fname, 'has been downloaded!')\n",
        "    else:\n",
        "        print('Dataset', fname, 'can not be found!')"
      ],
      "metadata": {
        "id": "U3pdgvj3LJB6"
      },
      "execution_count": 13,
      "outputs": []
    },
    {
      "cell_type": "code",
      "source": [
        "def load_data(file_name, head = 500):\n",
        "    count = 0\n",
        "    data = []\n",
        "    with gzip.open(file_name) as fin:\n",
        "        for l in fin:\n",
        "            d = json.loads(l)\n",
        "            count += 1\n",
        "            data.append(d)\n",
        "\n",
        "            # break if reaches the 100th line\n",
        "            if (head is not None) and (count > head):\n",
        "                break\n",
        "    return data"
      ],
      "metadata": {
        "id": "78NxDOzDMcAw"
      },
      "execution_count": 14,
      "outputs": []
    },
    {
      "cell_type": "code",
      "source": [
        "GENRE_OUT_DIR = './goodreads/genre/'\n",
        "COMPLETE_OUT_DIR = './goodreads/complete/'\n",
        "if not os.path.exists(GENRE_OUT_DIR):\n",
        "    os.makedirs(GENRE_OUT_DIR)\n",
        "\n",
        "if not os.path.exists(COMPLETE_OUT_DIR):\n",
        "    os.makedirs(COMPLETE_OUT_DIR)\n",
        "\n",
        "# for\n",
        "# output_path = os.path.join(GENRE_OUT_DIR, 'goodreads_books_poetry.json.gz')\n",
        "# download_by_name('goodreads_books_poetry.json.gz', output_path)"
      ],
      "metadata": {
        "id": "OIdfXJ4TWzGj"
      },
      "execution_count": 15,
      "outputs": []
    },
    {
      "cell_type": "code",
      "source": [
        "def download_file_list():\n",
        "  for fname in file_name_type_mapping:\n",
        "    ftype = file_name_type_mapping[fname]\n",
        "    if ftype == \"complete\":\n",
        "        output_path = os.path.join(COMPLETE_OUT_DIR, fname)\n",
        "        download_by_name(fname, output_path)\n",
        "    elif ftype == \"byGenre\":\n",
        "        output_path = os.path.join(GENRE_OUT_DIR, fname)\n",
        "        download_by_name(fname, output_path)"
      ],
      "metadata": {
        "id": "osLxagYgXVb1"
      },
      "execution_count": 16,
      "outputs": []
    },
    {
      "cell_type": "code",
      "source": [
        "# download_file_list()"
      ],
      "metadata": {
        "id": "t-HYs68lZENH"
      },
      "execution_count": 17,
      "outputs": []
    },
    {
      "cell_type": "markdown",
      "source": [
        "# New Section"
      ],
      "metadata": {
        "id": "R8PbSBFtbyGZ"
      }
    },
    {
      "cell_type": "code",
      "source": [
        "DIR = './'\n",
        "\n",
        "books = load_data(os.path.join('/content/drive/MyDrive/KaggleX/', 'goodreads_books_fantasy_paranormal.json.gz'))\n",
        "interactions = load_data(os.path.join('/content/drive/MyDrive/KaggleX/', 'goodreads_interactions_fantasy_paranormal.json.gz'))\n"
      ],
      "metadata": {
        "id": "bxQWaDHyNe5L"
      },
      "execution_count": 18,
      "outputs": []
    },
    {
      "cell_type": "code",
      "source": [
        "# print(' == sample record (books) ==')\n",
        "display(np.random.choice(interactions))"
      ],
      "metadata": {
        "colab": {
          "base_uri": "https://localhost:8080/",
          "height": 191
        },
        "id": "Ep4IZPNeNx66",
        "outputId": "546b2f25-027c-48a9-e65e-d9a456ac6a2e"
      },
      "execution_count": 19,
      "outputs": [
        {
          "output_type": "display_data",
          "data": {
            "text/plain": [
              "{'user_id': 'f8a89075dc6de14857561522e729f82c',\n",
              " 'book_id': '19346451',\n",
              " 'review_id': 'e39fba6af04079b2335b1128d6e219aa',\n",
              " 'is_read': False,\n",
              " 'rating': 0,\n",
              " 'review_text_incomplete': '',\n",
              " 'date_added': 'Fri May 09 18:14:08 -0700 2014',\n",
              " 'date_updated': 'Mon Mar 09 15:39:41 -0700 2015',\n",
              " 'read_at': '',\n",
              " 'started_at': ''}"
            ]
          },
          "metadata": {}
        }
      ]
    },
    {
      "cell_type": "code",
      "source": [
        "# print(books[0])\n",
        "list(filter(lambda x: x['book_id'] == '24793295', books))"
      ],
      "metadata": {
        "colab": {
          "base_uri": "https://localhost:8080/"
        },
        "id": "uhM9-dRwwrdp",
        "outputId": "69df4484-b185-43cf-bc2f-6974d64acc1c"
      },
      "execution_count": 20,
      "outputs": [
        {
          "output_type": "execute_result",
          "data": {
            "text/plain": [
              "[{'isbn': '',\n",
              "  'text_reviews_count': '2',\n",
              "  'series': ['269219'],\n",
              "  'country_code': 'US',\n",
              "  'language_code': 'eng',\n",
              "  'popular_shelves': [{'count': '1115', 'name': 'to-read'},\n",
              "   {'count': '198', 'name': 'fantasy'},\n",
              "   {'count': '59', 'name': 'mystery'},\n",
              "   {'count': '24', 'name': 'm-m'},\n",
              "   {'count': '20', 'name': 'lgbt'},\n",
              "   {'count': '20', 'name': 'fiction'},\n",
              "   {'count': '19', 'name': 'series'},\n",
              "   {'count': '14', 'name': 'currently-reading'},\n",
              "   {'count': '14', 'name': 'queer'},\n",
              "   {'count': '14', 'name': 'romance'},\n",
              "   {'count': '12', 'name': 'lgbtq'},\n",
              "   {'count': '12', 'name': 'gay'},\n",
              "   {'count': '11', 'name': 'historical'},\n",
              "   {'count': '10', 'name': 'favorites'},\n",
              "   {'count': '10', 'name': 'ebook'},\n",
              "   {'count': '9', 'name': 'glbt'},\n",
              "   {'count': '9', 'name': 'to-buy'},\n",
              "   {'count': '8', 'name': 'owned'},\n",
              "   {'count': '8', 'name': 'mm'},\n",
              "   {'count': '7', 'name': 'science-fiction'},\n",
              "   {'count': '6', 'name': 'maybe'},\n",
              "   {'count': '6', 'name': 'crime'},\n",
              "   {'count': '5', 'name': 'female-author'},\n",
              "   {'count': '5', 'name': 'high-fantasy'},\n",
              "   {'count': '5', 'name': 'scifi-fantasy'},\n",
              "   {'count': '4', 'name': 'adult'},\n",
              "   {'count': '4', 'name': 'sff'},\n",
              "   {'count': '4', 'name': 'speculative-fiction'},\n",
              "   {'count': '4', 'name': 'lgbtqia'},\n",
              "   {'count': '4', 'name': 'g-fantasy'},\n",
              "   {'count': '4', 'name': 'e-books'},\n",
              "   {'count': '4', 'name': 'genre-fantasy'},\n",
              "   {'count': '3', 'name': 'maybes'},\n",
              "   {'count': '3', 'name': 'genre-mystery'},\n",
              "   {'count': '3', 'name': 're-read'},\n",
              "   {'count': '3', 'name': 'kindle'},\n",
              "   {'count': '3', 'name': 'read-in-2013'},\n",
              "   {'count': '3', 'name': 'reviewed'},\n",
              "   {'count': '3', 'name': 'sci-fi-fantasy'},\n",
              "   {'count': '3', 'name': 'adventure'},\n",
              "   {'count': '3', 'name': 'gay-romance'},\n",
              "   {'count': '3', 'name': 'fantasy-sci-fi'},\n",
              "   {'count': '3', 'name': 'sf-f'},\n",
              "   {'count': '3', 'name': 'historical-fiction'},\n",
              "   {'count': '3', 'name': 'sf'},\n",
              "   {'count': '2', 'name': 'storybundle'},\n",
              "   {'count': '2', 'name': 'fantasy-of-manners'},\n",
              "   {'count': '2', 'name': 'series-points'},\n",
              "   {'count': '2', 'name': 'gave-up-on'},\n",
              "   {'count': '2', 'name': 'bisexual'},\n",
              "   {'count': '2', 'name': 'historical-fantasy'},\n",
              "   {'count': '2', 'name': 'tbr-own'},\n",
              "   {'count': '2', 'name': 'g-mystery'},\n",
              "   {'count': '2', 'name': 'fantasy-sf'},\n",
              "   {'count': '2', 'name': 'inventory-ebooks'},\n",
              "   {'count': '2', 'name': 'read-2015'},\n",
              "   {'count': '2', 'name': 'purchased'},\n",
              "   {'count': '2', 'name': 'm-m-own'},\n",
              "   {'count': '2', 'name': 'epub'},\n",
              "   {'count': '2', 'name': 'lethe-press'},\n",
              "   {'count': '2', 'name': 'paranormal'},\n",
              "   {'count': '2', 'name': 'don-t-plan-on-reading'},\n",
              "   {'count': '2', 'name': 'mm-romance'},\n",
              "   {'count': '2', 'name': 'astreiant'},\n",
              "   {'count': '2', 'name': 'read-2014'},\n",
              "   {'count': '2', 'name': 'unfinished'},\n",
              "   {'count': '2', 'name': 'paperback'},\n",
              "   {'count': '2', 'name': 'queer-protagonists'},\n",
              "   {'count': '2', 'name': 'fantasy-classic'},\n",
              "   {'count': '2', 'name': 'military'},\n",
              "   {'count': '2', 'name': 'fantasy-mystery'},\n",
              "   {'count': '2', 'name': 'to-read-mystery'},\n",
              "   {'count': '2', 'name': 'science-fiction-glbt'},\n",
              "   {'count': '2', 'name': 'beautiful-worldbuilding'},\n",
              "   {'count': '2', 'name': 'wish-list'},\n",
              "   {'count': '2', 'name': 'm-m-fantasy'},\n",
              "   {'count': '2', 'name': 'to-get'},\n",
              "   {'count': '2', 'name': 'fantasy-to-read'},\n",
              "   {'count': '2', 'name': 'mystery-thriller'},\n",
              "   {'count': '2', 'name': 'ebooks'},\n",
              "   {'count': '2', 'name': 'want-to-read'},\n",
              "   {'count': '2', 'name': 'tbr-pile'},\n",
              "   {'count': '2', 'name': 'considering'},\n",
              "   {'count': '2', 'name': 'magic'},\n",
              "   {'count': '2', 'name': 'gblt'},\n",
              "   {'count': '2', 'name': 'gay-fantasy'},\n",
              "   {'count': '2', 'name': 'novels'},\n",
              "   {'count': '2', 'name': 'library'},\n",
              "   {'count': '2', 'name': 'gay-mystery'},\n",
              "   {'count': '2', 'name': 'pointsman'},\n",
              "   {'count': '2', 'name': 'queer-characters'},\n",
              "   {'count': '2', 'name': 'did-not-finish'},\n",
              "   {'count': '1', 'name': 'to-read-back-backlog'},\n",
              "   {'count': '1', 'name': 'to-read-one-day'},\n",
              "   {'count': '1', 'name': 'to-check'},\n",
              "   {'count': '1', 'name': 'top-of-the-list'},\n",
              "   {'count': '1', 'name': 'lgb'},\n",
              "   {'count': '1', 'name': 'accessible'},\n",
              "   {'count': '1', 'name': 'suggestion-to-purchase-opl'},\n",
              "   {'count': '1', 'name': 'backlog'}],\n",
              "  'asin': '',\n",
              "  'is_ebook': 'false',\n",
              "  'average_rating': '3.81',\n",
              "  'kindle_asin': '',\n",
              "  'similar_books': ['176506',\n",
              "   '3437354',\n",
              "   '257991',\n",
              "   '1146575',\n",
              "   '9596433',\n",
              "   '220753',\n",
              "   '20002',\n",
              "   '11059239',\n",
              "   '920057',\n",
              "   '10454232',\n",
              "   '2436617',\n",
              "   '23461',\n",
              "   '7775973',\n",
              "   '10116196',\n",
              "   '11279771',\n",
              "   '3236819',\n",
              "   '74273',\n",
              "   '7822865'],\n",
              "  'description': \"Nicolas Rathe is a pointsman, a dedicated watchman in the great city of Astreiant. During the annual trade fair, with a city filled with travelers and merchants, someone is stealing children. The populace is getting angry and frightened and convinced that a foreigner must be to blame. Rathe calls on the aid of both an out-of-work soldier, the handsome Philip Eslingen, and the necromancer Istre b'Estorr. The art of astrology is a very real power in the kingdom and plays as much a role in politics as greed and intrigue. Rathe finds himself struggling to find the children before a major astrological event brings about catastrophe. The first in a series of fantasy novels filled with adventure, intrigue and gay romance.\",\n",
              "  'format': 'Paperback',\n",
              "  'link': 'https://www.goodreads.com/book/show/24793295-point-of-hopes',\n",
              "  'authors': [{'author_id': '75822', 'role': ''},\n",
              "   {'author_id': '434927', 'role': ''}],\n",
              "  'publisher': 'Lethe Press',\n",
              "  'num_pages': '338',\n",
              "  'publication_day': '20',\n",
              "  'isbn13': '',\n",
              "  'publication_month': '4',\n",
              "  'edition_information': 'Reissue',\n",
              "  'publication_year': '2012',\n",
              "  'url': 'https://www.goodreads.com/book/show/24793295-point-of-hopes',\n",
              "  'image_url': 'https://images.gr-assets.com/books/1422826740m/24793295.jpg',\n",
              "  'book_id': '24793295',\n",
              "  'ratings_count': '3',\n",
              "  'work_id': '2136966',\n",
              "  'title': 'Point of Hopes (Astreiant, #1)',\n",
              "  'title_without_series': 'Point of Hopes (Astreiant, #1)'}]"
            ]
          },
          "metadata": {},
          "execution_count": 20
        }
      ]
    },
    {
      "cell_type": "code",
      "source": [
        "# csv_file = tf.keras.utils.get_file('goodreads_book_authors.json.gz', './goodreads/complete/goodreads_book_authors.json.gz')"
      ],
      "metadata": {
        "id": "2g9yz1gJgt-2"
      },
      "execution_count": 21,
      "outputs": []
    },
    {
      "cell_type": "code",
      "source": [
        "ratings = map(lambda x: {\"book_id\":x[\"book_id\"], \"user_id\":x[\"user_id\"]}, filter(lambda x: x['is_read'], interactions))\n",
        "# 199\n",
        "book_ids = map(lambda x: {\"book_id\": x[\"book_id\"]}, books)\n",
        "# 501\n",
        "# print(len(list(book_ids)))\n",
        "ratings_df = pd.read_json(json.dumps(list(ratings)))\n",
        "books_df = pd.read_json(json.dumps(list(book_ids)))\n",
        "ratings_tf = tf.data.Dataset.from_tensor_slices((dict(ratings_df)))\n",
        "books_tf = tf.data.Dataset.from_tensor_slices((dict(books_df)))\n",
        "\n",
        "\n"
      ],
      "metadata": {
        "id": "Yk8-okduOLMJ"
      },
      "execution_count": 22,
      "outputs": []
    },
    {
      "cell_type": "code",
      "source": [
        "ratings_df[ratings_df['user_id'] == '8842281e1d1347389f2ab93d60773d4d']"
      ],
      "metadata": {
        "colab": {
          "base_uri": "https://localhost:8080/",
          "height": 1000
        },
        "id": "OEf7Z6w8waFy",
        "outputId": "cc5963ee-7fcf-4835-bd0d-f6f0c7a249d6"
      },
      "execution_count": 23,
      "outputs": [
        {
          "output_type": "execute_result",
          "data": {
            "text/plain": [
              "     book_id                           user_id\n",
              "0   18245960  8842281e1d1347389f2ab93d60773d4d\n",
              "1   29058155  8842281e1d1347389f2ab93d60773d4d\n",
              "2     186074  8842281e1d1347389f2ab93d60773d4d\n",
              "3   15839976  8842281e1d1347389f2ab93d60773d4d\n",
              "4    5577844  8842281e1d1347389f2ab93d60773d4d\n",
              "5   17315048  8842281e1d1347389f2ab93d60773d4d\n",
              "6   13453029  8842281e1d1347389f2ab93d60773d4d\n",
              "7   13239822  8842281e1d1347389f2ab93d60773d4d\n",
              "8   10673579  8842281e1d1347389f2ab93d60773d4d\n",
              "9    6987584  8842281e1d1347389f2ab93d60773d4d\n",
              "10     10572  8842281e1d1347389f2ab93d60773d4d\n",
              "11     62291  8842281e1d1347389f2ab93d60773d4d\n",
              "12    862041  8842281e1d1347389f2ab93d60773d4d\n",
              "13        33  8842281e1d1347389f2ab93d60773d4d\n",
              "14   6984678  8842281e1d1347389f2ab93d60773d4d\n",
              "15     41804  8842281e1d1347389f2ab93d60773d4d\n",
              "16    136251  8842281e1d1347389f2ab93d60773d4d\n",
              "17    142296  8842281e1d1347389f2ab93d60773d4d\n",
              "18     76620  8842281e1d1347389f2ab93d60773d4d\n",
              "19     34497  8842281e1d1347389f2ab93d60773d4d\n",
              "20     18512  8842281e1d1347389f2ab93d60773d4d\n",
              "21     15241  8842281e1d1347389f2ab93d60773d4d\n",
              "22        34  8842281e1d1347389f2ab93d60773d4d\n",
              "23        11  8842281e1d1347389f2ab93d60773d4d\n",
              "24     14497  8842281e1d1347389f2ab93d60773d4d\n",
              "25     77566  8842281e1d1347389f2ab93d60773d4d\n",
              "26    897461  8842281e1d1347389f2ab93d60773d4d\n",
              "27     18122  8842281e1d1347389f2ab93d60773d4d\n",
              "28    119322  8842281e1d1347389f2ab93d60773d4d\n",
              "29     33507  8842281e1d1347389f2ab93d60773d4d\n",
              "30      7082  8842281e1d1347389f2ab93d60773d4d\n",
              "31     52357  8842281e1d1347389f2ab93d60773d4d\n",
              "32      1622  8842281e1d1347389f2ab93d60773d4d\n",
              "33      5907  8842281e1d1347389f2ab93d60773d4d\n",
              "34     37684  8842281e1d1347389f2ab93d60773d4d\n",
              "35     18131  8842281e1d1347389f2ab93d60773d4d\n",
              "36     11129  8842281e1d1347389f2ab93d60773d4d\n",
              "37      1226  8842281e1d1347389f2ab93d60773d4d\n",
              "38   1022863  8842281e1d1347389f2ab93d60773d4d\n",
              "39       106  8842281e1d1347389f2ab93d60773d4d\n",
              "40       103  8842281e1d1347389f2ab93d60773d4d\n",
              "41         6  8842281e1d1347389f2ab93d60773d4d\n",
              "42         2  8842281e1d1347389f2ab93d60773d4d\n",
              "43         4  8842281e1d1347389f2ab93d60773d4d\n",
              "44         3  8842281e1d1347389f2ab93d60773d4d\n",
              "45         1  8842281e1d1347389f2ab93d60773d4d\n",
              "46        30  8842281e1d1347389f2ab93d60773d4d\n",
              "47        12  8842281e1d1347389f2ab93d60773d4d"
            ],
            "text/html": [
              "\n",
              "  <div id=\"df-472963d3-88eb-460c-aca7-9966d288cc41\" class=\"colab-df-container\">\n",
              "    <div>\n",
              "<style scoped>\n",
              "    .dataframe tbody tr th:only-of-type {\n",
              "        vertical-align: middle;\n",
              "    }\n",
              "\n",
              "    .dataframe tbody tr th {\n",
              "        vertical-align: top;\n",
              "    }\n",
              "\n",
              "    .dataframe thead th {\n",
              "        text-align: right;\n",
              "    }\n",
              "</style>\n",
              "<table border=\"1\" class=\"dataframe\">\n",
              "  <thead>\n",
              "    <tr style=\"text-align: right;\">\n",
              "      <th></th>\n",
              "      <th>book_id</th>\n",
              "      <th>user_id</th>\n",
              "    </tr>\n",
              "  </thead>\n",
              "  <tbody>\n",
              "    <tr>\n",
              "      <th>0</th>\n",
              "      <td>18245960</td>\n",
              "      <td>8842281e1d1347389f2ab93d60773d4d</td>\n",
              "    </tr>\n",
              "    <tr>\n",
              "      <th>1</th>\n",
              "      <td>29058155</td>\n",
              "      <td>8842281e1d1347389f2ab93d60773d4d</td>\n",
              "    </tr>\n",
              "    <tr>\n",
              "      <th>2</th>\n",
              "      <td>186074</td>\n",
              "      <td>8842281e1d1347389f2ab93d60773d4d</td>\n",
              "    </tr>\n",
              "    <tr>\n",
              "      <th>3</th>\n",
              "      <td>15839976</td>\n",
              "      <td>8842281e1d1347389f2ab93d60773d4d</td>\n",
              "    </tr>\n",
              "    <tr>\n",
              "      <th>4</th>\n",
              "      <td>5577844</td>\n",
              "      <td>8842281e1d1347389f2ab93d60773d4d</td>\n",
              "    </tr>\n",
              "    <tr>\n",
              "      <th>5</th>\n",
              "      <td>17315048</td>\n",
              "      <td>8842281e1d1347389f2ab93d60773d4d</td>\n",
              "    </tr>\n",
              "    <tr>\n",
              "      <th>6</th>\n",
              "      <td>13453029</td>\n",
              "      <td>8842281e1d1347389f2ab93d60773d4d</td>\n",
              "    </tr>\n",
              "    <tr>\n",
              "      <th>7</th>\n",
              "      <td>13239822</td>\n",
              "      <td>8842281e1d1347389f2ab93d60773d4d</td>\n",
              "    </tr>\n",
              "    <tr>\n",
              "      <th>8</th>\n",
              "      <td>10673579</td>\n",
              "      <td>8842281e1d1347389f2ab93d60773d4d</td>\n",
              "    </tr>\n",
              "    <tr>\n",
              "      <th>9</th>\n",
              "      <td>6987584</td>\n",
              "      <td>8842281e1d1347389f2ab93d60773d4d</td>\n",
              "    </tr>\n",
              "    <tr>\n",
              "      <th>10</th>\n",
              "      <td>10572</td>\n",
              "      <td>8842281e1d1347389f2ab93d60773d4d</td>\n",
              "    </tr>\n",
              "    <tr>\n",
              "      <th>11</th>\n",
              "      <td>62291</td>\n",
              "      <td>8842281e1d1347389f2ab93d60773d4d</td>\n",
              "    </tr>\n",
              "    <tr>\n",
              "      <th>12</th>\n",
              "      <td>862041</td>\n",
              "      <td>8842281e1d1347389f2ab93d60773d4d</td>\n",
              "    </tr>\n",
              "    <tr>\n",
              "      <th>13</th>\n",
              "      <td>33</td>\n",
              "      <td>8842281e1d1347389f2ab93d60773d4d</td>\n",
              "    </tr>\n",
              "    <tr>\n",
              "      <th>14</th>\n",
              "      <td>6984678</td>\n",
              "      <td>8842281e1d1347389f2ab93d60773d4d</td>\n",
              "    </tr>\n",
              "    <tr>\n",
              "      <th>15</th>\n",
              "      <td>41804</td>\n",
              "      <td>8842281e1d1347389f2ab93d60773d4d</td>\n",
              "    </tr>\n",
              "    <tr>\n",
              "      <th>16</th>\n",
              "      <td>136251</td>\n",
              "      <td>8842281e1d1347389f2ab93d60773d4d</td>\n",
              "    </tr>\n",
              "    <tr>\n",
              "      <th>17</th>\n",
              "      <td>142296</td>\n",
              "      <td>8842281e1d1347389f2ab93d60773d4d</td>\n",
              "    </tr>\n",
              "    <tr>\n",
              "      <th>18</th>\n",
              "      <td>76620</td>\n",
              "      <td>8842281e1d1347389f2ab93d60773d4d</td>\n",
              "    </tr>\n",
              "    <tr>\n",
              "      <th>19</th>\n",
              "      <td>34497</td>\n",
              "      <td>8842281e1d1347389f2ab93d60773d4d</td>\n",
              "    </tr>\n",
              "    <tr>\n",
              "      <th>20</th>\n",
              "      <td>18512</td>\n",
              "      <td>8842281e1d1347389f2ab93d60773d4d</td>\n",
              "    </tr>\n",
              "    <tr>\n",
              "      <th>21</th>\n",
              "      <td>15241</td>\n",
              "      <td>8842281e1d1347389f2ab93d60773d4d</td>\n",
              "    </tr>\n",
              "    <tr>\n",
              "      <th>22</th>\n",
              "      <td>34</td>\n",
              "      <td>8842281e1d1347389f2ab93d60773d4d</td>\n",
              "    </tr>\n",
              "    <tr>\n",
              "      <th>23</th>\n",
              "      <td>11</td>\n",
              "      <td>8842281e1d1347389f2ab93d60773d4d</td>\n",
              "    </tr>\n",
              "    <tr>\n",
              "      <th>24</th>\n",
              "      <td>14497</td>\n",
              "      <td>8842281e1d1347389f2ab93d60773d4d</td>\n",
              "    </tr>\n",
              "    <tr>\n",
              "      <th>25</th>\n",
              "      <td>77566</td>\n",
              "      <td>8842281e1d1347389f2ab93d60773d4d</td>\n",
              "    </tr>\n",
              "    <tr>\n",
              "      <th>26</th>\n",
              "      <td>897461</td>\n",
              "      <td>8842281e1d1347389f2ab93d60773d4d</td>\n",
              "    </tr>\n",
              "    <tr>\n",
              "      <th>27</th>\n",
              "      <td>18122</td>\n",
              "      <td>8842281e1d1347389f2ab93d60773d4d</td>\n",
              "    </tr>\n",
              "    <tr>\n",
              "      <th>28</th>\n",
              "      <td>119322</td>\n",
              "      <td>8842281e1d1347389f2ab93d60773d4d</td>\n",
              "    </tr>\n",
              "    <tr>\n",
              "      <th>29</th>\n",
              "      <td>33507</td>\n",
              "      <td>8842281e1d1347389f2ab93d60773d4d</td>\n",
              "    </tr>\n",
              "    <tr>\n",
              "      <th>30</th>\n",
              "      <td>7082</td>\n",
              "      <td>8842281e1d1347389f2ab93d60773d4d</td>\n",
              "    </tr>\n",
              "    <tr>\n",
              "      <th>31</th>\n",
              "      <td>52357</td>\n",
              "      <td>8842281e1d1347389f2ab93d60773d4d</td>\n",
              "    </tr>\n",
              "    <tr>\n",
              "      <th>32</th>\n",
              "      <td>1622</td>\n",
              "      <td>8842281e1d1347389f2ab93d60773d4d</td>\n",
              "    </tr>\n",
              "    <tr>\n",
              "      <th>33</th>\n",
              "      <td>5907</td>\n",
              "      <td>8842281e1d1347389f2ab93d60773d4d</td>\n",
              "    </tr>\n",
              "    <tr>\n",
              "      <th>34</th>\n",
              "      <td>37684</td>\n",
              "      <td>8842281e1d1347389f2ab93d60773d4d</td>\n",
              "    </tr>\n",
              "    <tr>\n",
              "      <th>35</th>\n",
              "      <td>18131</td>\n",
              "      <td>8842281e1d1347389f2ab93d60773d4d</td>\n",
              "    </tr>\n",
              "    <tr>\n",
              "      <th>36</th>\n",
              "      <td>11129</td>\n",
              "      <td>8842281e1d1347389f2ab93d60773d4d</td>\n",
              "    </tr>\n",
              "    <tr>\n",
              "      <th>37</th>\n",
              "      <td>1226</td>\n",
              "      <td>8842281e1d1347389f2ab93d60773d4d</td>\n",
              "    </tr>\n",
              "    <tr>\n",
              "      <th>38</th>\n",
              "      <td>1022863</td>\n",
              "      <td>8842281e1d1347389f2ab93d60773d4d</td>\n",
              "    </tr>\n",
              "    <tr>\n",
              "      <th>39</th>\n",
              "      <td>106</td>\n",
              "      <td>8842281e1d1347389f2ab93d60773d4d</td>\n",
              "    </tr>\n",
              "    <tr>\n",
              "      <th>40</th>\n",
              "      <td>103</td>\n",
              "      <td>8842281e1d1347389f2ab93d60773d4d</td>\n",
              "    </tr>\n",
              "    <tr>\n",
              "      <th>41</th>\n",
              "      <td>6</td>\n",
              "      <td>8842281e1d1347389f2ab93d60773d4d</td>\n",
              "    </tr>\n",
              "    <tr>\n",
              "      <th>42</th>\n",
              "      <td>2</td>\n",
              "      <td>8842281e1d1347389f2ab93d60773d4d</td>\n",
              "    </tr>\n",
              "    <tr>\n",
              "      <th>43</th>\n",
              "      <td>4</td>\n",
              "      <td>8842281e1d1347389f2ab93d60773d4d</td>\n",
              "    </tr>\n",
              "    <tr>\n",
              "      <th>44</th>\n",
              "      <td>3</td>\n",
              "      <td>8842281e1d1347389f2ab93d60773d4d</td>\n",
              "    </tr>\n",
              "    <tr>\n",
              "      <th>45</th>\n",
              "      <td>1</td>\n",
              "      <td>8842281e1d1347389f2ab93d60773d4d</td>\n",
              "    </tr>\n",
              "    <tr>\n",
              "      <th>46</th>\n",
              "      <td>30</td>\n",
              "      <td>8842281e1d1347389f2ab93d60773d4d</td>\n",
              "    </tr>\n",
              "    <tr>\n",
              "      <th>47</th>\n",
              "      <td>12</td>\n",
              "      <td>8842281e1d1347389f2ab93d60773d4d</td>\n",
              "    </tr>\n",
              "  </tbody>\n",
              "</table>\n",
              "</div>\n",
              "    <div class=\"colab-df-buttons\">\n",
              "\n",
              "  <div class=\"colab-df-container\">\n",
              "    <button class=\"colab-df-convert\" onclick=\"convertToInteractive('df-472963d3-88eb-460c-aca7-9966d288cc41')\"\n",
              "            title=\"Convert this dataframe to an interactive table.\"\n",
              "            style=\"display:none;\">\n",
              "\n",
              "  <svg xmlns=\"http://www.w3.org/2000/svg\" height=\"24px\" viewBox=\"0 -960 960 960\">\n",
              "    <path d=\"M120-120v-720h720v720H120Zm60-500h600v-160H180v160Zm220 220h160v-160H400v160Zm0 220h160v-160H400v160ZM180-400h160v-160H180v160Zm440 0h160v-160H620v160ZM180-180h160v-160H180v160Zm440 0h160v-160H620v160Z\"/>\n",
              "  </svg>\n",
              "    </button>\n",
              "\n",
              "  <style>\n",
              "    .colab-df-container {\n",
              "      display:flex;\n",
              "      gap: 12px;\n",
              "    }\n",
              "\n",
              "    .colab-df-convert {\n",
              "      background-color: #E8F0FE;\n",
              "      border: none;\n",
              "      border-radius: 50%;\n",
              "      cursor: pointer;\n",
              "      display: none;\n",
              "      fill: #1967D2;\n",
              "      height: 32px;\n",
              "      padding: 0 0 0 0;\n",
              "      width: 32px;\n",
              "    }\n",
              "\n",
              "    .colab-df-convert:hover {\n",
              "      background-color: #E2EBFA;\n",
              "      box-shadow: 0px 1px 2px rgba(60, 64, 67, 0.3), 0px 1px 3px 1px rgba(60, 64, 67, 0.15);\n",
              "      fill: #174EA6;\n",
              "    }\n",
              "\n",
              "    .colab-df-buttons div {\n",
              "      margin-bottom: 4px;\n",
              "    }\n",
              "\n",
              "    [theme=dark] .colab-df-convert {\n",
              "      background-color: #3B4455;\n",
              "      fill: #D2E3FC;\n",
              "    }\n",
              "\n",
              "    [theme=dark] .colab-df-convert:hover {\n",
              "      background-color: #434B5C;\n",
              "      box-shadow: 0px 1px 3px 1px rgba(0, 0, 0, 0.15);\n",
              "      filter: drop-shadow(0px 1px 2px rgba(0, 0, 0, 0.3));\n",
              "      fill: #FFFFFF;\n",
              "    }\n",
              "  </style>\n",
              "\n",
              "    <script>\n",
              "      const buttonEl =\n",
              "        document.querySelector('#df-472963d3-88eb-460c-aca7-9966d288cc41 button.colab-df-convert');\n",
              "      buttonEl.style.display =\n",
              "        google.colab.kernel.accessAllowed ? 'block' : 'none';\n",
              "\n",
              "      async function convertToInteractive(key) {\n",
              "        const element = document.querySelector('#df-472963d3-88eb-460c-aca7-9966d288cc41');\n",
              "        const dataTable =\n",
              "          await google.colab.kernel.invokeFunction('convertToInteractive',\n",
              "                                                    [key], {});\n",
              "        if (!dataTable) return;\n",
              "\n",
              "        const docLinkHtml = 'Like what you see? Visit the ' +\n",
              "          '<a target=\"_blank\" href=https://colab.research.google.com/notebooks/data_table.ipynb>data table notebook</a>'\n",
              "          + ' to learn more about interactive tables.';\n",
              "        element.innerHTML = '';\n",
              "        dataTable['output_type'] = 'display_data';\n",
              "        await google.colab.output.renderOutput(dataTable, element);\n",
              "        const docLink = document.createElement('div');\n",
              "        docLink.innerHTML = docLinkHtml;\n",
              "        element.appendChild(docLink);\n",
              "      }\n",
              "    </script>\n",
              "  </div>\n",
              "\n",
              "\n",
              "<div id=\"df-24ee325d-f266-4461-8eac-fe60ffb74bfb\">\n",
              "  <button class=\"colab-df-quickchart\" onclick=\"quickchart('df-24ee325d-f266-4461-8eac-fe60ffb74bfb')\"\n",
              "            title=\"Suggest charts.\"\n",
              "            style=\"display:none;\">\n",
              "\n",
              "<svg xmlns=\"http://www.w3.org/2000/svg\" height=\"24px\"viewBox=\"0 0 24 24\"\n",
              "     width=\"24px\">\n",
              "    <g>\n",
              "        <path d=\"M19 3H5c-1.1 0-2 .9-2 2v14c0 1.1.9 2 2 2h14c1.1 0 2-.9 2-2V5c0-1.1-.9-2-2-2zM9 17H7v-7h2v7zm4 0h-2V7h2v10zm4 0h-2v-4h2v4z\"/>\n",
              "    </g>\n",
              "</svg>\n",
              "  </button>\n",
              "\n",
              "<style>\n",
              "  .colab-df-quickchart {\n",
              "    background-color: #E8F0FE;\n",
              "    border: none;\n",
              "    border-radius: 50%;\n",
              "    cursor: pointer;\n",
              "    display: none;\n",
              "    fill: #1967D2;\n",
              "    height: 32px;\n",
              "    padding: 0 0 0 0;\n",
              "    width: 32px;\n",
              "  }\n",
              "\n",
              "  .colab-df-quickchart:hover {\n",
              "    background-color: #E2EBFA;\n",
              "    box-shadow: 0px 1px 2px rgba(60, 64, 67, 0.3), 0px 1px 3px 1px rgba(60, 64, 67, 0.15);\n",
              "    fill: #174EA6;\n",
              "  }\n",
              "\n",
              "  [theme=dark] .colab-df-quickchart {\n",
              "    background-color: #3B4455;\n",
              "    fill: #D2E3FC;\n",
              "  }\n",
              "\n",
              "  [theme=dark] .colab-df-quickchart:hover {\n",
              "    background-color: #434B5C;\n",
              "    box-shadow: 0px 1px 3px 1px rgba(0, 0, 0, 0.15);\n",
              "    filter: drop-shadow(0px 1px 2px rgba(0, 0, 0, 0.3));\n",
              "    fill: #FFFFFF;\n",
              "  }\n",
              "</style>\n",
              "\n",
              "  <script>\n",
              "    async function quickchart(key) {\n",
              "      const charts = await google.colab.kernel.invokeFunction(\n",
              "          'suggestCharts', [key], {});\n",
              "    }\n",
              "    (() => {\n",
              "      let quickchartButtonEl =\n",
              "        document.querySelector('#df-24ee325d-f266-4461-8eac-fe60ffb74bfb button');\n",
              "      quickchartButtonEl.style.display =\n",
              "        google.colab.kernel.accessAllowed ? 'block' : 'none';\n",
              "    })();\n",
              "  </script>\n",
              "</div>\n",
              "    </div>\n",
              "  </div>\n"
            ]
          },
          "metadata": {},
          "execution_count": 23
        }
      ]
    },
    {
      "cell_type": "code",
      "source": [
        "all_book_ids = books_tf.batch(1_000).map(lambda x: x[\"book_id\"])\n",
        "\n",
        "user_ids = ratings_tf.batch(1_000_000).map(lambda x: x[\"user_id\"])\n",
        "\n",
        "unique_book_ids = np.unique(np.concatenate(list(all_book_ids)))\n",
        "unique_user_ids = np.unique(np.concatenate(list(user_ids)))\n",
        "all_book_ids\n",
        "unique_book_ids[:10]\n",
        "# unique_user_ids"
      ],
      "metadata": {
        "colab": {
          "base_uri": "https://localhost:8080/"
        },
        "id": "z3phcD9ze_JT",
        "outputId": "1439feb2-e11c-4373-ebd3-12dfed92df2a"
      },
      "execution_count": 24,
      "outputs": [
        {
          "output_type": "execute_result",
          "data": {
            "text/plain": [
              "array([ 13892,  38560,  38562,  38564,  38568,  39307,  64737,  89583,\n",
              "        89588, 175248])"
            ]
          },
          "metadata": {},
          "execution_count": 24
        }
      ]
    },
    {
      "cell_type": "code",
      "source": [
        "tf.random.set_seed(42)\n",
        "# shuffled = ratings_tf.shuffle(100_000, seed=42, reshuffle_each_iteration=False)\n",
        "\n",
        "# train = shuffled.take(80_000)\n",
        "# test = shuffled.skip(80_000).take(20_000)\n",
        "shuffled = ratings_tf.shuffle(199, seed=42, reshuffle_each_iteration=False)\n",
        "\n",
        "train = shuffled.take(160)\n",
        "test = shuffled.skip(160).take(39)"
      ],
      "metadata": {
        "id": "fFxpWh7tbfNE"
      },
      "execution_count": 25,
      "outputs": []
    },
    {
      "cell_type": "code",
      "source": [
        "book_map = books_tf.map(lambda x: x[\"book_id\"])\n",
        "book_map"
      ],
      "metadata": {
        "colab": {
          "base_uri": "https://localhost:8080/"
        },
        "id": "WET3Uhcgl2uD",
        "outputId": "af5a1512-a67f-4759-c65f-a8ff85050489"
      },
      "execution_count": 26,
      "outputs": [
        {
          "output_type": "execute_result",
          "data": {
            "text/plain": [
              "<_MapDataset element_spec=TensorSpec(shape=(), dtype=tf.int64, name=None)>"
            ]
          },
          "metadata": {},
          "execution_count": 26
        }
      ]
    },
    {
      "cell_type": "code",
      "source": [
        "embedding_dimension = 32"
      ],
      "metadata": {
        "id": "8dERK8i8iYW-"
      },
      "execution_count": 27,
      "outputs": []
    },
    {
      "cell_type": "code",
      "source": [
        "user_model = tf.keras.Sequential([\n",
        "  tf.keras.layers.StringLookup(\n",
        "      vocabulary=unique_user_ids, mask_token=None),\n",
        "  # We add an additional embedding to account for unknown tokens.\n",
        "  tf.keras.layers.Embedding(len(unique_user_ids) + 1, embedding_dimension)\n",
        "])"
      ],
      "metadata": {
        "id": "mNtItAXDih7Q"
      },
      "execution_count": 28,
      "outputs": []
    },
    {
      "cell_type": "code",
      "source": [
        "book_model = tf.keras.Sequential([\n",
        "  tf.keras.layers.IntegerLookup(\n",
        "      vocabulary=unique_book_ids, mask_token=None),\n",
        "  tf.keras.layers.Embedding(len(unique_book_ids) + 1, embedding_dimension)\n",
        "])"
      ],
      "metadata": {
        "id": "vcM1mw0UijCL"
      },
      "execution_count": 29,
      "outputs": []
    },
    {
      "cell_type": "code",
      "source": [
        "metrics = tfrs.metrics.FactorizedTopK(\n",
        "  candidates=book_map.batch(128).map(book_model)\n",
        ")"
      ],
      "metadata": {
        "id": "S_VnLJA1iPA0"
      },
      "execution_count": 30,
      "outputs": []
    },
    {
      "cell_type": "code",
      "source": [
        "metrics"
      ],
      "metadata": {
        "colab": {
          "base_uri": "https://localhost:8080/"
        },
        "id": "TYNPD7Gvo8Mk",
        "outputId": "d447259c-010b-4d19-bf1f-2c0821de9d9d"
      },
      "execution_count": 31,
      "outputs": [
        {
          "output_type": "execute_result",
          "data": {
            "text/plain": [
              "<tensorflow_recommenders.metrics.factorized_top_k.FactorizedTopK at 0x7f1065051c00>"
            ]
          },
          "metadata": {},
          "execution_count": 31
        }
      ]
    },
    {
      "cell_type": "code",
      "source": [
        "task = tfrs.tasks.Retrieval(\n",
        "  metrics=metrics\n",
        ")"
      ],
      "metadata": {
        "id": "hHds4gmXiJW8"
      },
      "execution_count": 32,
      "outputs": []
    },
    {
      "cell_type": "code",
      "source": [
        "class GoodreadsModel(tfrs.Model):\n",
        "\n",
        "  def __init__(self, user_model, book_model):\n",
        "    super().__init__()\n",
        "    self.book_model: tf.keras.Model = book_model\n",
        "    self.user_model: tf.keras.Model = user_model\n",
        "    self.task: tf.keras.layers.Layer = task\n",
        "\n",
        "  def compute_loss(self, features: Dict[Text, tf.Tensor], training=False) -> tf.Tensor:\n",
        "    # We pick out the user features and pass them into the user model.\n",
        "    user_embeddings = self.user_model(features[\"user_id\"])\n",
        "    # And pick out the movie features and pass them into the movie model,\n",
        "    # getting embeddings back.\n",
        "    positive_book_embeddings = self.book_model(features[\"book_id\"])\n",
        "\n",
        "    # The task computes the loss and the metrics.\n",
        "    return self.task(user_embeddings, positive_book_embeddings)"
      ],
      "metadata": {
        "id": "RE5Z7PLQh5P-"
      },
      "execution_count": 33,
      "outputs": []
    },
    {
      "cell_type": "code",
      "source": [
        "model = GoodreadsModel(user_model, book_model)\n",
        "model.compile(optimizer=tf.keras.optimizers.Adagrad(learning_rate=0.1))"
      ],
      "metadata": {
        "id": "2BTTN5T8kNV_"
      },
      "execution_count": 34,
      "outputs": []
    },
    {
      "cell_type": "code",
      "source": [
        "cached_train = train.shuffle(100_000).batch(8192).cache()\n",
        "cached_test = test.batch(4096).cache()"
      ],
      "metadata": {
        "id": "nGkOuMJLkTcs"
      },
      "execution_count": 35,
      "outputs": []
    },
    {
      "cell_type": "code",
      "source": [
        "model.fit(cached_train, epochs=3)"
      ],
      "metadata": {
        "colab": {
          "base_uri": "https://localhost:8080/"
        },
        "id": "zhsB7qS1mKAr",
        "outputId": "2e6713c1-f7fe-4deb-b471-93dcebb102c3"
      },
      "execution_count": 36,
      "outputs": [
        {
          "output_type": "stream",
          "name": "stdout",
          "text": [
            "Epoch 1/3\n",
            "1/1 [==============================] - 2s 2s/step - factorized_top_k/top_1_categorical_accuracy: 0.0000e+00 - factorized_top_k/top_5_categorical_accuracy: 0.0000e+00 - factorized_top_k/top_10_categorical_accuracy: 0.0000e+00 - factorized_top_k/top_50_categorical_accuracy: 0.0000e+00 - factorized_top_k/top_100_categorical_accuracy: 0.1250 - loss: 812.0278 - regularization_loss: 0.0000e+00 - total_loss: 812.0278\n",
            "Epoch 2/3\n",
            "1/1 [==============================] - 0s 105ms/step - factorized_top_k/top_1_categorical_accuracy: 0.0000e+00 - factorized_top_k/top_5_categorical_accuracy: 0.0000e+00 - factorized_top_k/top_10_categorical_accuracy: 0.0000e+00 - factorized_top_k/top_50_categorical_accuracy: 0.0000e+00 - factorized_top_k/top_100_categorical_accuracy: 0.1250 - loss: 812.0278 - regularization_loss: 0.0000e+00 - total_loss: 812.0278\n",
            "Epoch 3/3\n",
            "1/1 [==============================] - 0s 146ms/step - factorized_top_k/top_1_categorical_accuracy: 0.0000e+00 - factorized_top_k/top_5_categorical_accuracy: 0.0000e+00 - factorized_top_k/top_10_categorical_accuracy: 0.0000e+00 - factorized_top_k/top_50_categorical_accuracy: 0.0000e+00 - factorized_top_k/top_100_categorical_accuracy: 0.1250 - loss: 812.0278 - regularization_loss: 0.0000e+00 - total_loss: 812.0278\n"
          ]
        },
        {
          "output_type": "execute_result",
          "data": {
            "text/plain": [
              "<keras.src.callbacks.History at 0x7f10d3f54c40>"
            ]
          },
          "metadata": {},
          "execution_count": 36
        }
      ]
    },
    {
      "cell_type": "code",
      "source": [
        "cached_train"
      ],
      "metadata": {
        "colab": {
          "base_uri": "https://localhost:8080/"
        },
        "id": "53LKQpaQkZKj",
        "outputId": "b359f749-1494-443d-d78c-5b90aabc94d1"
      },
      "execution_count": 37,
      "outputs": [
        {
          "output_type": "execute_result",
          "data": {
            "text/plain": [
              "<CacheDataset element_spec={'book_id': TensorSpec(shape=(None,), dtype=tf.int64, name=None), 'user_id': TensorSpec(shape=(None,), dtype=tf.string, name=None)}>"
            ]
          },
          "metadata": {},
          "execution_count": 37
        }
      ]
    },
    {
      "cell_type": "code",
      "source": [
        "cached_test"
      ],
      "metadata": {
        "colab": {
          "base_uri": "https://localhost:8080/"
        },
        "id": "eaisMUmKqmXP",
        "outputId": "5d65f1b3-84bc-476d-c6db-4e136eecc72b"
      },
      "execution_count": 38,
      "outputs": [
        {
          "output_type": "execute_result",
          "data": {
            "text/plain": [
              "<CacheDataset element_spec={'book_id': TensorSpec(shape=(None,), dtype=tf.int64, name=None), 'user_id': TensorSpec(shape=(None,), dtype=tf.string, name=None)}>"
            ]
          },
          "metadata": {},
          "execution_count": 38
        }
      ]
    },
    {
      "cell_type": "code",
      "source": [
        "model.evaluate(cached_test, return_dict=True)"
      ],
      "metadata": {
        "colab": {
          "base_uri": "https://localhost:8080/"
        },
        "id": "z4SFXzmMkZ3N",
        "outputId": "7106e6d9-df16-45bf-f564-8557144939b2"
      },
      "execution_count": 39,
      "outputs": [
        {
          "output_type": "stream",
          "name": "stdout",
          "text": [
            "1/1 [==============================] - 1s 734ms/step - factorized_top_k/top_1_categorical_accuracy: 0.0000e+00 - factorized_top_k/top_5_categorical_accuracy: 0.0000e+00 - factorized_top_k/top_10_categorical_accuracy: 0.0000e+00 - factorized_top_k/top_50_categorical_accuracy: 0.0000e+00 - factorized_top_k/top_100_categorical_accuracy: 0.1282 - loss: 142.8789 - regularization_loss: 0.0000e+00 - total_loss: 142.8789\n"
          ]
        },
        {
          "output_type": "execute_result",
          "data": {
            "text/plain": [
              "{'factorized_top_k/top_1_categorical_accuracy': 0.0,\n",
              " 'factorized_top_k/top_5_categorical_accuracy': 0.0,\n",
              " 'factorized_top_k/top_10_categorical_accuracy': 0.0,\n",
              " 'factorized_top_k/top_50_categorical_accuracy': 0.0,\n",
              " 'factorized_top_k/top_100_categorical_accuracy': 0.12820513546466827,\n",
              " 'loss': 142.87890625,\n",
              " 'regularization_loss': 0,\n",
              " 'total_loss': 142.87890625}"
            ]
          },
          "metadata": {},
          "execution_count": 39
        }
      ]
    },
    {
      "cell_type": "code",
      "source": [
        "# Create a model that takes in raw query features, and\n",
        "index = tfrs.layers.factorized_top_k.BruteForce(model.user_model)\n",
        "# recommends movies out of the entire movies dataset.\n",
        "index.index_from_dataset(\n",
        "  tf.data.Dataset.zip((book_map.batch(100), book_map.batch(100).map(model.book_model)))\n",
        ")\n",
        "\n",
        "# Get recommendations.\n",
        "_, titles = index(tf.constant([\"8842281e1d1347389f2ab93d60773d4d\"]))\n",
        "print(f\"Recommendations for user 8842281e1d1347389f2ab93d60773d4d: {titles[0, :3]}\")"
      ],
      "metadata": {
        "colab": {
          "base_uri": "https://localhost:8080/"
        },
        "id": "UtAPixo7tWUz",
        "outputId": "20fc9b04-0ab0-4a72-dfa1-fce4e47a3c9f"
      },
      "execution_count": 40,
      "outputs": [
        {
          "output_type": "stream",
          "name": "stdout",
          "text": [
            "Recommendations for user 8842281e1d1347389f2ab93d60773d4d: [15701114  9834950  1076048]\n"
          ]
        }
      ]
    },
    {
      "cell_type": "code",
      "source": [
        "# with tempfile.TemporaryDirectory() as tmp:\n",
        "#   path = os.path.join(tmp, \"model\")\n",
        "\n",
        "# Save the index.\n",
        "tf.saved_model.save(index, '/content/drive/MyDrive/KaggleX/models/')\n",
        "\n",
        "# Load it back; can also be done in TensorFlow Serving.\n",
        "loaded = tf.saved_model.load('/content/drive/MyDrive/KaggleX/models')"
      ],
      "metadata": {
        "colab": {
          "base_uri": "https://localhost:8080/"
        },
        "id": "6WvrSJTede0d",
        "outputId": "84590922-8cfa-4f12-aad7-afeaa20cd46a"
      },
      "execution_count": 41,
      "outputs": [
        {
          "output_type": "stream",
          "name": "stderr",
          "text": [
            "WARNING:tensorflow:Model's `__init__()` arguments contain non-serializable objects. Please implement a `get_config()` method in the subclassed Model for proper saving and loading. Defaulting to empty config.\n",
            "WARNING:tensorflow:Model's `__init__()` arguments contain non-serializable objects. Please implement a `get_config()` method in the subclassed Model for proper saving and loading. Defaulting to empty config.\n"
          ]
        }
      ]
    }
  ]
}